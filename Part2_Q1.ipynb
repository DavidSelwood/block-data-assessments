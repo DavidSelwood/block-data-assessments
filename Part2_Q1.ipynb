{
 "cells": [
  {
   "cell_type": "code",
   "execution_count": 159,
   "metadata": {},
   "outputs": [],
   "source": [
    "import numpy as np\n",
    "import pandas as pd\n",
    "import matplotlib.pyplot as plt\n",
    "import datetime\n",
    "import math"
   ]
  },
  {
   "cell_type": "code",
   "execution_count": 222,
   "metadata": {},
   "outputs": [
    {
     "data": {
      "text/html": [
       "<div>\n",
       "<style scoped>\n",
       "    .dataframe tbody tr th:only-of-type {\n",
       "        vertical-align: middle;\n",
       "    }\n",
       "\n",
       "    .dataframe tbody tr th {\n",
       "        vertical-align: top;\n",
       "    }\n",
       "\n",
       "    .dataframe thead th {\n",
       "        text-align: right;\n",
       "    }\n",
       "</style>\n",
       "<table border=\"1\" class=\"dataframe\">\n",
       "  <thead>\n",
       "    <tr style=\"text-align: right;\">\n",
       "      <th></th>\n",
       "      <th>deal_id</th>\n",
       "      <th>handoff_date</th>\n",
       "      <th>pitched_proposal_date</th>\n",
       "      <th>closed_won_date</th>\n",
       "      <th>deal_value_usd</th>\n",
       "    </tr>\n",
       "  </thead>\n",
       "  <tbody>\n",
       "    <tr>\n",
       "      <th>0</th>\n",
       "      <td>304185249</td>\n",
       "      <td>NaN</td>\n",
       "      <td>NaN</td>\n",
       "      <td>2018-07-17</td>\n",
       "      <td>53454.0</td>\n",
       "    </tr>\n",
       "    <tr>\n",
       "      <th>1</th>\n",
       "      <td>304185521</td>\n",
       "      <td>NaN</td>\n",
       "      <td>NaN</td>\n",
       "      <td>NaT</td>\n",
       "      <td>NaN</td>\n",
       "    </tr>\n",
       "    <tr>\n",
       "      <th>2</th>\n",
       "      <td>304186077</td>\n",
       "      <td>NaN</td>\n",
       "      <td>NaN</td>\n",
       "      <td>2018-07-16</td>\n",
       "      <td>41473.0</td>\n",
       "    </tr>\n",
       "    <tr>\n",
       "      <th>3</th>\n",
       "      <td>304187429</td>\n",
       "      <td>NaN</td>\n",
       "      <td>NaN</td>\n",
       "      <td>NaT</td>\n",
       "      <td>NaN</td>\n",
       "    </tr>\n",
       "    <tr>\n",
       "      <th>4</th>\n",
       "      <td>304187641</td>\n",
       "      <td>NaN</td>\n",
       "      <td>NaN</td>\n",
       "      <td>NaT</td>\n",
       "      <td>NaN</td>\n",
       "    </tr>\n",
       "  </tbody>\n",
       "</table>\n",
       "</div>"
      ],
      "text/plain": [
       "     deal_id handoff_date pitched_proposal_date closed_won_date  \\\n",
       "0  304185249          NaN                   NaN      2018-07-17   \n",
       "1  304185521          NaN                   NaN             NaT   \n",
       "2  304186077          NaN                   NaN      2018-07-16   \n",
       "3  304187429          NaN                   NaN             NaT   \n",
       "4  304187641          NaN                   NaN             NaT   \n",
       "\n",
       "   deal_value_usd  \n",
       "0         53454.0  \n",
       "1             NaN  \n",
       "2         41473.0  \n",
       "3             NaN  \n",
       "4             NaN  "
      ]
     },
     "execution_count": 222,
     "metadata": {},
     "output_type": "execute_result"
    }
   ],
   "source": [
    "# read in deals data, convert closed_won_date to datetime object\n",
    "deal = pd.read_csv('C:/Users/dselw/Desktop/Block_Renovation_Technical/deal.csv')\n",
    "deal['closed_won_date'] = pd.to_datetime(deal['closed_won_date'])\n",
    "deal.head()"
   ]
  },
  {
   "cell_type": "code",
   "execution_count": 223,
   "metadata": {},
   "outputs": [
    {
     "name": "stderr",
     "output_type": "stream",
     "text": [
      "C:\\Users\\dselw\\anaconda3\\lib\\site-packages\\pandas\\core\\frame.py:3997: SettingWithCopyWarning: \n",
      "A value is trying to be set on a copy of a slice from a DataFrame\n",
      "\n",
      "See the caveats in the documentation: https://pandas.pydata.org/pandas-docs/stable/user_guide/indexing.html#returning-a-view-versus-a-copy\n",
      "  errors=errors,\n",
      "C:\\Users\\dselw\\anaconda3\\lib\\site-packages\\ipykernel_launcher.py:6: SettingWithCopyWarning: \n",
      "A value is trying to be set on a copy of a slice from a DataFrame\n",
      "\n",
      "See the caveats in the documentation: https://pandas.pydata.org/pandas-docs/stable/user_guide/indexing.html#returning-a-view-versus-a-copy\n",
      "  \n",
      "C:\\Users\\dselw\\anaconda3\\lib\\site-packages\\pandas\\core\\frame.py:4133: SettingWithCopyWarning: \n",
      "A value is trying to be set on a copy of a slice from a DataFrame\n",
      "\n",
      "See the caveats in the documentation: https://pandas.pydata.org/pandas-docs/stable/user_guide/indexing.html#returning-a-view-versus-a-copy\n",
      "  errors=errors,\n",
      "C:\\Users\\dselw\\anaconda3\\lib\\site-packages\\ipykernel_launcher.py:8: SettingWithCopyWarning: \n",
      "A value is trying to be set on a copy of a slice from a DataFrame\n",
      "\n",
      "See the caveats in the documentation: https://pandas.pydata.org/pandas-docs/stable/user_guide/indexing.html#returning-a-view-versus-a-copy\n",
      "  \n"
     ]
    },
    {
     "data": {
      "text/html": [
       "<div>\n",
       "<style scoped>\n",
       "    .dataframe tbody tr th:only-of-type {\n",
       "        vertical-align: middle;\n",
       "    }\n",
       "\n",
       "    .dataframe tbody tr th {\n",
       "        vertical-align: top;\n",
       "    }\n",
       "\n",
       "    .dataframe thead th {\n",
       "        text-align: right;\n",
       "    }\n",
       "</style>\n",
       "<table border=\"1\" class=\"dataframe\">\n",
       "  <thead>\n",
       "    <tr style=\"text-align: right;\">\n",
       "      <th></th>\n",
       "      <th>deal_id</th>\n",
       "      <th>closed_date</th>\n",
       "      <th>deal_value_usd</th>\n",
       "    </tr>\n",
       "  </thead>\n",
       "  <tbody>\n",
       "    <tr>\n",
       "      <th>0</th>\n",
       "      <td>332240473</td>\n",
       "      <td>2018-06-01</td>\n",
       "      <td>41014.0</td>\n",
       "    </tr>\n",
       "    <tr>\n",
       "      <th>1</th>\n",
       "      <td>305224570</td>\n",
       "      <td>2018-06-12</td>\n",
       "      <td>34885.0</td>\n",
       "    </tr>\n",
       "    <tr>\n",
       "      <th>2</th>\n",
       "      <td>823622344</td>\n",
       "      <td>2018-06-13</td>\n",
       "      <td>18537.0</td>\n",
       "    </tr>\n",
       "    <tr>\n",
       "      <th>3</th>\n",
       "      <td>332250072</td>\n",
       "      <td>2018-06-15</td>\n",
       "      <td>28096.0</td>\n",
       "    </tr>\n",
       "    <tr>\n",
       "      <th>4</th>\n",
       "      <td>332250337</td>\n",
       "      <td>2018-06-15</td>\n",
       "      <td>46960.0</td>\n",
       "    </tr>\n",
       "  </tbody>\n",
       "</table>\n",
       "</div>"
      ],
      "text/plain": [
       "     deal_id closed_date  deal_value_usd\n",
       "0  332240473  2018-06-01         41014.0\n",
       "1  305224570  2018-06-12         34885.0\n",
       "2  823622344  2018-06-13         18537.0\n",
       "3  332250072  2018-06-15         28096.0\n",
       "4  332250337  2018-06-15         46960.0"
      ]
     },
     "execution_count": 223,
     "metadata": {},
     "output_type": "execute_result"
    }
   ],
   "source": [
    "# get only closed deals i.e. deals that have a populated closed_won_date\n",
    "closed_deal = deal[pd.notnull(deal['closed_won_date'])]\n",
    "\n",
    "# drop unnecessary columns and duplicates, rename and sort by closed_won_date, reset index\n",
    "closed_deal.drop(['handoff_date', 'pitched_proposal_date'], axis=1, inplace=True)\n",
    "closed_deal.drop_duplicates(inplace=True)\n",
    "closed_deal.rename({'closed_won_date':'closed_date'}, axis=1, inplace=True)\n",
    "closed_deal.sort_values('closed_date', inplace=True)\n",
    "closed_deal.reset_index(drop=True, inplace=True)\n",
    "closed_deal.head()"
   ]
  },
  {
   "cell_type": "code",
   "execution_count": 224,
   "metadata": {},
   "outputs": [],
   "source": [
    "# function to calculate completion date as 6 months after closed_date\n",
    "def completion_date(close_date):\n",
    "    completion_date = close_date + datetime.timedelta(math.ceil(6 * 365/12))\n",
    "    return completion_date\n",
    "\n",
    "# function to calculate halfway date between closed_date and completion_date\n",
    "def halfway_date(close_date):\n",
    "    comp_date = completion_date(close_date)\n",
    "    halfway_date = close_date + datetime.timedelta(round((comp_date-close_date).days/2.0))\n",
    "    return halfway_date"
   ]
  },
  {
   "cell_type": "code",
   "execution_count": 226,
   "metadata": {},
   "outputs": [
    {
     "name": "stderr",
     "output_type": "stream",
     "text": [
      "C:\\Users\\dselw\\anaconda3\\lib\\site-packages\\ipykernel_launcher.py:2: SettingWithCopyWarning: \n",
      "A value is trying to be set on a copy of a slice from a DataFrame.\n",
      "Try using .loc[row_indexer,col_indexer] = value instead\n",
      "\n",
      "See the caveats in the documentation: https://pandas.pydata.org/pandas-docs/stable/user_guide/indexing.html#returning-a-view-versus-a-copy\n",
      "  \n",
      "C:\\Users\\dselw\\anaconda3\\lib\\site-packages\\ipykernel_launcher.py:3: SettingWithCopyWarning: \n",
      "A value is trying to be set on a copy of a slice from a DataFrame.\n",
      "Try using .loc[row_indexer,col_indexer] = value instead\n",
      "\n",
      "See the caveats in the documentation: https://pandas.pydata.org/pandas-docs/stable/user_guide/indexing.html#returning-a-view-versus-a-copy\n",
      "  This is separate from the ipykernel package so we can avoid doing imports until\n"
     ]
    },
    {
     "data": {
      "text/html": [
       "<div>\n",
       "<style scoped>\n",
       "    .dataframe tbody tr th:only-of-type {\n",
       "        vertical-align: middle;\n",
       "    }\n",
       "\n",
       "    .dataframe tbody tr th {\n",
       "        vertical-align: top;\n",
       "    }\n",
       "\n",
       "    .dataframe thead th {\n",
       "        text-align: right;\n",
       "    }\n",
       "</style>\n",
       "<table border=\"1\" class=\"dataframe\">\n",
       "  <thead>\n",
       "    <tr style=\"text-align: right;\">\n",
       "      <th></th>\n",
       "      <th>deal_id</th>\n",
       "      <th>deal_value_usd</th>\n",
       "      <th>closed_date</th>\n",
       "      <th>halfway_date</th>\n",
       "      <th>completion_date</th>\n",
       "    </tr>\n",
       "  </thead>\n",
       "  <tbody>\n",
       "    <tr>\n",
       "      <th>0</th>\n",
       "      <td>332240473</td>\n",
       "      <td>41014.0</td>\n",
       "      <td>2018-06-01</td>\n",
       "      <td>2018-09-01</td>\n",
       "      <td>2018-12-01</td>\n",
       "    </tr>\n",
       "    <tr>\n",
       "      <th>1</th>\n",
       "      <td>305224570</td>\n",
       "      <td>34885.0</td>\n",
       "      <td>2018-06-12</td>\n",
       "      <td>2018-09-12</td>\n",
       "      <td>2018-12-12</td>\n",
       "    </tr>\n",
       "    <tr>\n",
       "      <th>2</th>\n",
       "      <td>823622344</td>\n",
       "      <td>18537.0</td>\n",
       "      <td>2018-06-13</td>\n",
       "      <td>2018-09-13</td>\n",
       "      <td>2018-12-13</td>\n",
       "    </tr>\n",
       "    <tr>\n",
       "      <th>3</th>\n",
       "      <td>332250072</td>\n",
       "      <td>28096.0</td>\n",
       "      <td>2018-06-15</td>\n",
       "      <td>2018-09-15</td>\n",
       "      <td>2018-12-15</td>\n",
       "    </tr>\n",
       "    <tr>\n",
       "      <th>4</th>\n",
       "      <td>332250337</td>\n",
       "      <td>46960.0</td>\n",
       "      <td>2018-06-15</td>\n",
       "      <td>2018-09-15</td>\n",
       "      <td>2018-12-15</td>\n",
       "    </tr>\n",
       "  </tbody>\n",
       "</table>\n",
       "</div>"
      ],
      "text/plain": [
       "     deal_id  deal_value_usd closed_date halfway_date completion_date\n",
       "0  332240473         41014.0  2018-06-01   2018-09-01      2018-12-01\n",
       "1  305224570         34885.0  2018-06-12   2018-09-12      2018-12-12\n",
       "2  823622344         18537.0  2018-06-13   2018-09-13      2018-12-13\n",
       "3  332250072         28096.0  2018-06-15   2018-09-15      2018-12-15\n",
       "4  332250337         46960.0  2018-06-15   2018-09-15      2018-12-15"
      ]
     },
     "execution_count": 226,
     "metadata": {},
     "output_type": "execute_result"
    }
   ],
   "source": [
    "# create new columns that consist of halfway and completion dates for each deal\n",
    "closed_deal['halfway_date'] = closed_deal['closed_date'].apply(halfway_date)\n",
    "closed_deal['completion_date'] = closed_deal['closed_date'].apply(completion_date)\n",
    "\n",
    "# re-order columns\n",
    "closed_deal = closed_deal[['deal_id', 'deal_value_usd', 'closed_date', 'halfway_date', 'completion_date']]\n",
    "\n",
    "closed_deal.head()"
   ]
  },
  {
   "cell_type": "code",
   "execution_count": 227,
   "metadata": {},
   "outputs": [
    {
     "data": {
      "text/html": [
       "<div>\n",
       "<style scoped>\n",
       "    .dataframe tbody tr th:only-of-type {\n",
       "        vertical-align: middle;\n",
       "    }\n",
       "\n",
       "    .dataframe tbody tr th {\n",
       "        vertical-align: top;\n",
       "    }\n",
       "\n",
       "    .dataframe thead th {\n",
       "        text-align: right;\n",
       "    }\n",
       "</style>\n",
       "<table border=\"1\" class=\"dataframe\">\n",
       "  <thead>\n",
       "    <tr style=\"text-align: right;\">\n",
       "      <th></th>\n",
       "      <th>Date</th>\n",
       "    </tr>\n",
       "  </thead>\n",
       "  <tbody>\n",
       "    <tr>\n",
       "      <th>0</th>\n",
       "      <td>2018-06-01</td>\n",
       "    </tr>\n",
       "    <tr>\n",
       "      <th>1</th>\n",
       "      <td>2018-06-02</td>\n",
       "    </tr>\n",
       "    <tr>\n",
       "      <th>2</th>\n",
       "      <td>2018-06-03</td>\n",
       "    </tr>\n",
       "    <tr>\n",
       "      <th>3</th>\n",
       "      <td>2018-06-04</td>\n",
       "    </tr>\n",
       "    <tr>\n",
       "      <th>4</th>\n",
       "      <td>2018-06-05</td>\n",
       "    </tr>\n",
       "  </tbody>\n",
       "</table>\n",
       "</div>"
      ],
      "text/plain": [
       "        Date\n",
       "0 2018-06-01\n",
       "1 2018-06-02\n",
       "2 2018-06-03\n",
       "3 2018-06-04\n",
       "4 2018-06-05"
      ]
     },
     "execution_count": 227,
     "metadata": {},
     "output_type": "execute_result"
    }
   ],
   "source": [
    "# create dataframe with all dates between the earliest deal close and 6 months after the most recently closed deal (aka completion date), inclusive\n",
    "rev_recog = pd.DataFrame(pd.date_range(min(closed_deal['closed_date']), max(closed_deal['completion_date'])), columns=['Date'])\n",
    "rev_recog.head()"
   ]
  },
  {
   "cell_type": "code",
   "execution_count": 228,
   "metadata": {},
   "outputs": [],
   "source": [
    "# function to calculate revenue recognized on a given date\n",
    "def revenue_recognized(date):\n",
    "    \n",
    "    # boolean arrays that are True if closed/halfway/completion date is equal to given date, False otherwise\n",
    "    if_closed_date = (closed_deal['closed_date'] == date)\n",
    "    if_halfway_date = (closed_deal['halfway_date'] == date)\n",
    "    if_completion_date = (closed_deal['completion_date'] == date)\n",
    "    \n",
    "    # for given day, calculate revenue recognized that day as sum of revenue earned at close, halfway, and completion\n",
    "    revenue = 0.0\n",
    "    revenue += 0.2 * sum(closed_deal['deal_value_usd'] * if_closed_date)\n",
    "    revenue += 0.4 * sum(closed_deal['deal_value_usd'] * if_halfway_date)\n",
    "    revenue += 0.4 * sum(closed_deal['deal_value_usd'] * if_completion_date)\n",
    "    \n",
    "    return revenue\n",
    "\n",
    "# function to convert date to YYYY-MM string format\n",
    "def get_month(date):\n",
    "    return date.strftime(\"%Y-%m\")"
   ]
  },
  {
   "cell_type": "code",
   "execution_count": 229,
   "metadata": {},
   "outputs": [
    {
     "data": {
      "text/html": [
       "<div>\n",
       "<style scoped>\n",
       "    .dataframe tbody tr th:only-of-type {\n",
       "        vertical-align: middle;\n",
       "    }\n",
       "\n",
       "    .dataframe tbody tr th {\n",
       "        vertical-align: top;\n",
       "    }\n",
       "\n",
       "    .dataframe thead th {\n",
       "        text-align: right;\n",
       "    }\n",
       "</style>\n",
       "<table border=\"1\" class=\"dataframe\">\n",
       "  <thead>\n",
       "    <tr style=\"text-align: right;\">\n",
       "      <th></th>\n",
       "      <th>Date</th>\n",
       "      <th>Month</th>\n",
       "      <th>Revenue Recognized</th>\n",
       "    </tr>\n",
       "  </thead>\n",
       "  <tbody>\n",
       "    <tr>\n",
       "      <th>0</th>\n",
       "      <td>2018-06-01</td>\n",
       "      <td>2018-06</td>\n",
       "      <td>8202.8</td>\n",
       "    </tr>\n",
       "    <tr>\n",
       "      <th>1</th>\n",
       "      <td>2018-06-02</td>\n",
       "      <td>2018-06</td>\n",
       "      <td>0.0</td>\n",
       "    </tr>\n",
       "    <tr>\n",
       "      <th>2</th>\n",
       "      <td>2018-06-03</td>\n",
       "      <td>2018-06</td>\n",
       "      <td>0.0</td>\n",
       "    </tr>\n",
       "    <tr>\n",
       "      <th>3</th>\n",
       "      <td>2018-06-04</td>\n",
       "      <td>2018-06</td>\n",
       "      <td>0.0</td>\n",
       "    </tr>\n",
       "    <tr>\n",
       "      <th>4</th>\n",
       "      <td>2018-06-05</td>\n",
       "      <td>2018-06</td>\n",
       "      <td>0.0</td>\n",
       "    </tr>\n",
       "  </tbody>\n",
       "</table>\n",
       "</div>"
      ],
      "text/plain": [
       "        Date    Month  Revenue Recognized\n",
       "0 2018-06-01  2018-06              8202.8\n",
       "1 2018-06-02  2018-06                 0.0\n",
       "2 2018-06-03  2018-06                 0.0\n",
       "3 2018-06-04  2018-06                 0.0\n",
       "4 2018-06-05  2018-06                 0.0"
      ]
     },
     "execution_count": 229,
     "metadata": {},
     "output_type": "execute_result"
    }
   ],
   "source": [
    "# create columns for month of each data and revenue recognized on each date\n",
    "rev_recog['Month'] = rev_recog['Date'].apply(get_month)\n",
    "rev_recog['Revenue Recognized'] = rev_recog['Date'].apply(revenue_recognized)\n",
    "rev_recog.head()"
   ]
  },
  {
   "cell_type": "code",
   "execution_count": 230,
   "metadata": {},
   "outputs": [],
   "source": [
    "# group the dataframe by Month, summing the revenue recognized and thereby getting revenue recognized per month\n",
    "monthly_revenue = rev_recog.groupby(['Month'], as_index=False).sum()"
   ]
  },
  {
   "cell_type": "code",
   "execution_count": 259,
   "metadata": {
    "scrolled": true
   },
   "outputs": [
    {
     "data": {
      "image/png": "[encoded data removed]",
      "text/plain": [
       "<Figure size 720x504 with 1 Axes>"
      ]
     },
     "metadata": {
      "needs_background": "light"
     },
     "output_type": "display_data"
    }
   ],
   "source": [
    "# plot Revenue Recognized vs Month, average, moving average\n",
    "plt.plot(monthly_revenue['Month'], monthly_revenue['Revenue Recognized'], label='Monthly')\n",
    "plt.axhline(np.mean(monthly_revenue['Revenue Recognized']), color='black', label='Average')\n",
    "\n",
    "num_months = 6\n",
    "plt.plot(monthly_revenue['Revenue Recognized'].rolling(num_months).mean(), color='red', label= str(num_months) + ' Month Moving Average')\n",
    "\n",
    "plt.xlabel('Month')\n",
    "plt.ylabel('Revenue Recognized')\n",
    "plt.title('Monthly Revenue Recognized')\n",
    "\n",
    "plt.legend()\n",
    "\n",
    "plt.rcParams['figure.figsize'] = [10, 7]\n",
    "plt.xticks(rotation=60)\n",
    "\n",
    "plt.show()"
   ]
  },
  {
   "cell_type": "code",
   "execution_count": 246,
   "metadata": {},
   "outputs": [
    {
     "name": "stdout",
     "output_type": "stream",
     "text": [
      "Date of last closed deal: 2021-07-13\n",
      "Month with highest revenue recognized: 2021-07\n",
      "Revenue recognized in 2021-07: 1613284.4\n",
      "Average revenue recognized per month: 678092.25\n"
     ]
    }
   ],
   "source": [
    "print('Date of last closed deal: ' + max(closed_deal['closed_date']).strftime('%Y-%m-%d'))\n",
    "\n",
    "revenue_argmax = monthly_revenue['Revenue Recognized'].argmax()\n",
    "print('Month with highest revenue recognized: ' + monthly_revenue.iloc[revenue_argmax]['Month'])\n",
    "print('Revenue recognized in ' + monthly_revenue.iloc[revenue_argmax]['Month'] + ': ' + str(round(monthly_revenue.iloc[revenue_argmax]['Revenue Recognized'], 2)))\n",
    "print('Average revenue recognized per month: ' + str(round(np.mean(monthly_revenue['Revenue Recognized']),2)))"
   ]
  }
 ],
 "metadata": {
  "kernelspec": {
   "display_name": "Python 3",
   "language": "python",
   "name": "python3"
  },
  "language_info": {
   "codemirror_mode": {
    "name": "ipython",
    "version": 3
   },
   "file_extension": ".py",
   "mimetype": "text/x-python",
   "name": "python",
   "nbconvert_exporter": "python",
   "pygments_lexer": "ipython3",
   "version": "3.7.6"
  }
 },
 "nbformat": 4,
 "nbformat_minor": 4
}
